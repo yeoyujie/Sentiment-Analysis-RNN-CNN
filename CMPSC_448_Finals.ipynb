{
  "cells": [
    {
      "cell_type": "code",
      "execution_count": 1,
      "metadata": {
        "id": "4oKKk2SJdeeK",
        "colab": {
          "base_uri": "https://localhost:8080/"
        },
        "outputId": "d84a8299-3600-4698-fd77-5b3f0148cac1"
      },
      "outputs": [
        {
          "output_type": "stream",
          "name": "stderr",
          "text": [
            "[nltk_data] Downloading package stopwords to /root/nltk_data...\n",
            "[nltk_data]   Unzipping corpora/stopwords.zip.\n",
            "[nltk_data] Downloading package wordnet to /root/nltk_data...\n"
          ]
        }
      ],
      "source": [
        "# Standard library imports\n",
        "import re\n",
        "import pickle\n",
        "\n",
        "# Third-party imports for data manipulation\n",
        "import numpy as np\n",
        "import pandas as pd\n",
        "\n",
        "# Imports for natural language processing\n",
        "import nltk\n",
        "from nltk.corpus import stopwords\n",
        "from nltk.stem import WordNetLemmatizer\n",
        "nltk.download('stopwords')\n",
        "nltk.download('wordnet')\n",
        "\n",
        "# Imports for data visualization\n",
        "import seaborn as sns\n",
        "import matplotlib.pyplot as plt\n",
        "\n",
        "# Imports for word embeddings\n",
        "from gensim.models import Word2Vec\n",
        "from tensorflow.keras.preprocessing.text import Tokenizer\n",
        "from tensorflow.keras.preprocessing.sequence import pad_sequences\n",
        "\n",
        "# Imports for building neural network models\n",
        "from keras.models import Sequential\n",
        "from keras.layers import SimpleRNN, Dense, LSTM, Dropout, Embedding\n",
        "from keras.layers import Conv1D, GlobalMaxPooling1D, MaxPooling1D, Flatten\n",
        "from keras.optimizers import Adam, RMSprop\n",
        "from keras.callbacks import EarlyStopping\n",
        "\n",
        "# Imports for model evaluation\n",
        "from sklearn.metrics import accuracy_score, f1_score, classification_report, confusion_matrix\n",
        "from sklearn.model_selection import train_test_split\n"
      ]
    },
    {
      "cell_type": "code",
      "execution_count": 2,
      "metadata": {
        "id": "kALcA1TzdjF6"
      },
      "outputs": [],
      "source": [
        "# Load the dataset\n",
        "df = pd.read_csv('movie.csv', engine='python')"
      ]
    },
    {
      "cell_type": "code",
      "execution_count": 3,
      "metadata": {
        "id": "KDVBp0x9epN6",
        "colab": {
          "base_uri": "https://localhost:8080/",
          "height": 489
        },
        "outputId": "964dc8a6-1277-4265-9331-dc0d56be32e5"
      },
      "outputs": [
        {
          "output_type": "execute_result",
          "data": {
            "text/plain": [
              "[Text(0, 0, 'Negative'), Text(1, 0, 'Positive')]"
            ]
          },
          "metadata": {},
          "execution_count": 3
        },
        {
          "output_type": "display_data",
          "data": {
            "text/plain": [
              "<Figure size 640x480 with 1 Axes>"
            ],
            "image/png": "[encoded data removed]"
          },
          "metadata": {}
        }
      ],
      "source": [
        "# Group data by 'label' and count the number of occurrences\n",
        "data_distribution = df.groupby('label').count()\n",
        "\n",
        "# Create bar plot of the data distribution\n",
        "bar_plot = data_distribution.plot(kind='bar', title='Distribution of data')\n",
        "\n",
        "# Set x-axis labels\n",
        "labels = ['Negative','Positive']\n",
        "bar_plot.set_xticklabels(labels, rotation=0)"
      ]
    },
    {
      "cell_type": "markdown",
      "metadata": {
        "id": "gLHZybqNg-U4"
      },
      "source": [
        "## Data **Preprocessing**"
      ]
    },
    {
      "cell_type": "code",
      "execution_count": 4,
      "metadata": {
        "id": "B2RyMiYXe2Jz"
      },
      "outputs": [],
      "source": [
        "# Load contractions\n",
        "contraction_data = pd.read_csv('contractions.csv', index_col='Contraction')\n",
        "contraction_data.index = contraction_data.index.str.lower()\n",
        "contraction_data.Meaning = contraction_data.Meaning.str.lower()\n",
        "contraction_dict = contraction_data.to_dict()['Meaning']\n",
        "\n",
        "# Define patterns\n",
        "line_breaks_pattern = \"<br /><br />\"\n",
        "non_alphanumeric_pattern = \"[^a-z0-9<>]\"\n",
        "repeated_chars_pattern = r\"(.)\\1\\1+\"\n",
        "repeated_chars_replace_pattern = r\"\\1\\1\"\n",
        "smile_emoji_pattern = r\"[8:=;]['`\\-]?[)d]+\"\n",
        "sad_emoji_pattern = r\"[8:=;]['`\\-]?\\(+\"\n",
        "neutral_emoji_pattern = r\"[8:=;]['`\\-]?[\\/|l*]\"\n",
        "lol_emoji_pattern = r\"[8:=;]['`\\-]?p+\"\n",
        "surprise_emoji_pattern = r\"[8:=;]['`\\-]?[oO]\"\n",
        "wink_emoji_pattern = r\"[;]['`\\-]?[)]\"\n",
        "hashtag_pattern = r\"#(\\w+)\"\n",
        "\n",
        "\n",
        "\n",
        "def preprocess_text(text):\n",
        "    # Convert to lowercase\n",
        "    text = text.lower()\n",
        "\n",
        "    # Replace line breaks\n",
        "    text = re.sub(line_breaks_pattern, \" \", text)\n",
        "\n",
        "    # Replace 3 or more consecutive letters by 2 letters\n",
        "    text = re.sub(repeated_chars_pattern, repeated_chars_replace_pattern, text)\n",
        "\n",
        "    # Replace emojis\n",
        "    text = re.sub(r'<3', '<heart>', text)\n",
        "    text = re.sub(smile_emoji_pattern, '<smile>', text)\n",
        "    text = re.sub(sad_emoji_pattern, '<sadface>', text)\n",
        "    text = re.sub(neutral_emoji_pattern, '<neutralface>', text)\n",
        "    text = re.sub(lol_emoji_pattern, '<lolface>', text)\n",
        "    text = re.sub(surprise_emoji_pattern, '<surpriseface>', text)\n",
        "    text = re.sub(wink_emoji_pattern, '<winkface>', text)\n",
        "\n",
        "    # Replace hashtag\n",
        "    text = re.sub(hashtag_pattern, '<hashtag> \\1', text)\n",
        "\n",
        "    # Replace contractions\n",
        "    for contraction, replacement in contraction_dict.items():\n",
        "        text = text.replace(contraction, replacement)\n",
        "\n",
        "    # Remove non-alphanumeric characters\n",
        "    text = re.sub(non_alphanumeric_pattern, ' ', text)\n",
        "\n",
        "    # Replace forward slashes with spaces\n",
        "    text = re.sub(r'/', ' / ', text)\n",
        "\n",
        "    # Additional preprocessing steps\n",
        "    # Remove extra spaces\n",
        "    text = re.sub(r'\\s+', ' ', text).strip()\n",
        "\n",
        "    return text\n",
        "\n",
        "df['cleaned_review'] = df.text.apply(preprocess_text)"
      ]
    },
    {
      "cell_type": "code",
      "execution_count": 5,
      "metadata": {
        "colab": {
          "base_uri": "https://localhost:8080/"
        },
        "id": "cPxW9GN7iu3M",
        "outputId": "a0066d64-1532-46af-cedf-405aa085cbac"
      },
      "outputs": [
        {
          "output_type": "stream",
          "name": "stderr",
          "text": [
            "<ipython-input-5-d0a875dcf07b>:15: SettingWithCopyWarning: \n",
            "A value is trying to be set on a copy of a slice from a DataFrame\n",
            "\n",
            "See the caveats in the documentation: https://pandas.pydata.org/pandas-docs/stable/user_guide/indexing.html#returning-a-view-versus-a-copy\n",
            "  df[\"cleaned_review\"][i] = \" \".join(word_list)\n"
          ]
        }
      ],
      "source": [
        "# Set up stop words and lemmatizer\n",
        "stop_words = set(stopwords.words('english'))\n",
        "lemmatizer = WordNetLemmatizer()\n",
        "\n",
        "# Apply preprocessing to each review\n",
        "for i in range(len(df)):\n",
        "    word_list = []\n",
        "    for word in df[\"cleaned_review\"][i].split():\n",
        "        # Remove stop words\n",
        "        if word not in stop_words:\n",
        "            # Apply lemmatization\n",
        "            word = lemmatizer.lemmatize(word)\n",
        "            word_list.append(word)\n",
        "    # Join the words back into a single string\n",
        "    df[\"cleaned_review\"][i] = \" \".join(word_list)"
      ]
    },
    {
      "cell_type": "code",
      "execution_count": 6,
      "metadata": {
        "id": "MpcIlwtIjMXb"
      },
      "outputs": [],
      "source": [
        "X = df['cleaned_review']\n",
        "y = df['label']\n",
        "\n",
        "# Split the data into training and test sets\n",
        "X_train, X_test, y_train, y_test = train_test_split(X, y, test_size=0.2, random_state=42)\n"
      ]
    },
    {
      "cell_type": "code",
      "execution_count": 7,
      "metadata": {
        "id": "J4ER-jJFkS2y"
      },
      "outputs": [],
      "source": [
        "# Set parameters\n",
        "Embedding_dimensions = 100\n",
        "input_length = 500\n",
        "vocab_length = 35000\n",
        "\n",
        "# Create Word2Vec training dataset and train Word2Vec model\n",
        "Word2vec_train_data = list(map(lambda x: x.split(), X_train))\n",
        "word2vec_model = Word2Vec(Word2vec_train_data, vector_size=Embedding_dimensions, workers=8, min_count=5)\n",
        "\n",
        "# Initialize tokenizer and fit on texts\n",
        "tokenizer = Tokenizer(filters=\"\", lower=False, oov_token=\"<oov>\")\n",
        "tokenizer.fit_on_texts(X_train)\n",
        "tokenizer.num_words = vocab_length\n",
        "\n",
        "# Convert texts to sequences and pad sequences\n",
        "X_train = pad_sequences(tokenizer.texts_to_sequences(X_train), maxlen=input_length)\n",
        "X_test  = pad_sequences(tokenizer.texts_to_sequences(X_test) , maxlen=input_length)\n",
        "\n",
        "# Create embedding matrix\n",
        "embedding_matrix = np.zeros((vocab_length, Embedding_dimensions))\n",
        "for word, token in tokenizer.word_index.items():\n",
        "    if word2vec_model.wv.__contains__(word):\n",
        "        embedding_matrix[token] = word2vec_model.wv.__getitem__(word)"
      ]
    },
    {
      "cell_type": "markdown",
      "metadata": {
        "id": "gr6kU2bbj99-"
      },
      "source": [
        "## **Model Implementation**"
      ]
    },
    {
      "cell_type": "markdown",
      "metadata": {
        "id": "t_tC8bkzkAzj"
      },
      "source": [
        "### **RNN**"
      ]
    },
    {
      "cell_type": "code",
      "execution_count": 8,
      "metadata": {
        "id": "bGL_8HH5jYgU",
        "colab": {
          "base_uri": "https://localhost:8080/"
        },
        "outputId": "4ee84534-6077-462b-e938-f188c8fc9eeb"
      },
      "outputs": [
        {
          "output_type": "stream",
          "name": "stdout",
          "text": [
            "Epoch 1/10\n",
            "29/29 [==============================] - 71s 2s/step - loss: 0.6899 - accuracy: 0.5842 - val_loss: 0.6237 - val_accuracy: 0.6528\n",
            "Epoch 2/10\n",
            "29/29 [==============================] - 69s 2s/step - loss: 0.5810 - accuracy: 0.6881 - val_loss: 0.5027 - val_accuracy: 0.7616\n",
            "Epoch 3/10\n",
            "29/29 [==============================] - 67s 2s/step - loss: 0.4399 - accuracy: 0.7987 - val_loss: 0.4047 - val_accuracy: 0.8250\n",
            "Epoch 4/10\n",
            "29/29 [==============================] - 68s 2s/step - loss: 0.4826 - accuracy: 0.7766 - val_loss: 0.4372 - val_accuracy: 0.7966\n",
            "Epoch 5/10\n",
            "29/29 [==============================] - 68s 2s/step - loss: 0.4066 - accuracy: 0.8196 - val_loss: 0.4089 - val_accuracy: 0.8206\n",
            "Epoch 6/10\n",
            "29/29 [==============================] - 73s 3s/step - loss: 0.3800 - accuracy: 0.8341 - val_loss: 0.3810 - val_accuracy: 0.8444\n",
            "Epoch 7/10\n",
            "29/29 [==============================] - 71s 2s/step - loss: 0.3606 - accuracy: 0.8466 - val_loss: 0.3669 - val_accuracy: 0.8447\n",
            "Epoch 8/10\n",
            "29/29 [==============================] - 71s 2s/step - loss: 0.3381 - accuracy: 0.8555 - val_loss: 0.3457 - val_accuracy: 0.8487\n",
            "Epoch 9/10\n",
            "29/29 [==============================] - 71s 2s/step - loss: 0.3209 - accuracy: 0.8640 - val_loss: 0.3482 - val_accuracy: 0.8469\n",
            "Epoch 10/10\n",
            "29/29 [==============================] - 70s 2s/step - loss: 0.3209 - accuracy: 0.8636 - val_loss: 0.3430 - val_accuracy: 0.8466\n"
          ]
        }
      ],
      "source": [
        "# Define the embedding layer\n",
        "embedding_layer = Embedding(input_dim=vocab_length,\n",
        "                            output_dim=Embedding_dimensions,\n",
        "                            weights=[embedding_matrix],\n",
        "                            input_length=input_length,\n",
        "                            trainable=False)\n",
        "\n",
        "# Define the RNN model\n",
        "rnn_model = Sequential([\n",
        "    embedding_layer,\n",
        "    SimpleRNN(100, return_sequences=False, activation=\"relu\"),\n",
        "    Dense(32, activation=\"relu\"),\n",
        "    Dense(1, activation=\"sigmoid\"),\n",
        "])\n",
        "\n",
        "# Compile the model\n",
        "rnn_model.compile(loss='binary_crossentropy', optimizer='adam', metrics=['accuracy'])\n",
        "\n",
        "# Define early stopping callback\n",
        "early_stopping = EarlyStopping(monitor='val_accuracy', min_delta=1e-4, patience=5)\n",
        "\n",
        "# Train the model\n",
        "history = rnn_model.fit(\n",
        "    X_train, y_train,\n",
        "    batch_size=1024,\n",
        "    epochs=10,\n",
        "    validation_split=0.1,\n",
        "    callbacks=[early_stopping],\n",
        "    verbose=1,\n",
        ")"
      ]
    },
    {
      "cell_type": "code",
      "execution_count": 9,
      "metadata": {
        "id": "tPfg5pkYKmge",
        "colab": {
          "base_uri": "https://localhost:8080/"
        },
        "outputId": "21b9702e-53ca-4a63-fc36-ca9ca376ecbf"
      },
      "outputs": [
        {
          "output_type": "stream",
          "name": "stdout",
          "text": [
            "250/250 [==============================] - 14s 54ms/step\n",
            "RNN Model Accuracy: 84.80%\n",
            "RNN Model F1 Score: 85.78%\n"
          ]
        }
      ],
      "source": [
        "# Make predictions on the test data\n",
        "y_pred_rnn = rnn_model.predict(X_test)\n",
        "y_pred_rnn = np.round(y_pred_rnn)  # Round to get 0 or 1 because we're dealing with binary classification\n",
        "\n",
        "# Calculate accuracy\n",
        "accuracy_rnn = accuracy_score(y_test, y_pred_rnn) * 100\n",
        "print(f\"RNN Model Accuracy: {accuracy_rnn:.2f}%\")\n",
        "\n",
        "# Calculate F1 score\n",
        "f1_rnn = f1_score(y_test, y_pred_rnn, average='binary') * 100\n",
        "print(f\"RNN Model F1 Score: {f1_rnn:.2f}%\")"
      ]
    },
    {
      "cell_type": "markdown",
      "metadata": {
        "id": "SCaWst0OmsKn"
      },
      "source": [
        "### **CNN**"
      ]
    },
    {
      "cell_type": "code",
      "execution_count": 10,
      "metadata": {
        "id": "88ZAE0tDmtbH",
        "colab": {
          "base_uri": "https://localhost:8080/"
        },
        "outputId": "5e5759f7-450e-41e1-96df-f6cd4c86351e"
      },
      "outputs": [
        {
          "output_type": "stream",
          "name": "stdout",
          "text": [
            "Epoch 1/10\n",
            "29/29 [==============================] - 108s 4s/step - loss: 0.5226 - accuracy: 0.7339 - val_loss: 0.4201 - val_accuracy: 0.8112\n",
            "Epoch 2/10\n",
            "29/29 [==============================] - 108s 4s/step - loss: 0.3674 - accuracy: 0.8395 - val_loss: 0.3645 - val_accuracy: 0.8428\n",
            "Epoch 3/10\n",
            "29/29 [==============================] - 114s 4s/step - loss: 0.3178 - accuracy: 0.8663 - val_loss: 0.3533 - val_accuracy: 0.8497\n",
            "Epoch 4/10\n",
            "29/29 [==============================] - 109s 4s/step - loss: 0.2884 - accuracy: 0.8821 - val_loss: 0.3450 - val_accuracy: 0.8562\n",
            "Epoch 5/10\n",
            "29/29 [==============================] - 104s 4s/step - loss: 0.2648 - accuracy: 0.8925 - val_loss: 0.3356 - val_accuracy: 0.8559\n",
            "Epoch 6/10\n",
            "29/29 [==============================] - 104s 4s/step - loss: 0.2439 - accuracy: 0.9031 - val_loss: 0.3335 - val_accuracy: 0.8603\n",
            "Epoch 7/10\n",
            "29/29 [==============================] - 105s 4s/step - loss: 0.2249 - accuracy: 0.9111 - val_loss: 0.3285 - val_accuracy: 0.8594\n",
            "Epoch 8/10\n",
            "29/29 [==============================] - 110s 4s/step - loss: 0.2043 - accuracy: 0.9241 - val_loss: 0.3271 - val_accuracy: 0.8628\n",
            "Epoch 9/10\n",
            "29/29 [==============================] - 104s 4s/step - loss: 0.1866 - accuracy: 0.9342 - val_loss: 0.3300 - val_accuracy: 0.8628\n",
            "Epoch 10/10\n",
            "29/29 [==============================] - 104s 4s/step - loss: 0.1692 - accuracy: 0.9410 - val_loss: 0.3349 - val_accuracy: 0.8578\n"
          ]
        }
      ],
      "source": [
        "# Define the embedding layer\n",
        "embedding_layer = Embedding(input_dim=vocab_length,\n",
        "                            output_dim=Embedding_dimensions,\n",
        "                            weights=[embedding_matrix],\n",
        "                            input_length=input_length,\n",
        "                            trainable=False)\n",
        "\n",
        "# Define the CNN model\n",
        "cnn_model = Sequential([\n",
        "    embedding_layer,\n",
        "    Conv1D(100, 5, activation='relu'),\n",
        "    GlobalMaxPooling1D(),\n",
        "    Dense(32, activation='relu'),\n",
        "    Dense(1, activation='sigmoid'),\n",
        "])\n",
        "\n",
        "# Compile the model\n",
        "cnn_model.compile(loss='binary_crossentropy', optimizer='adam', metrics=['accuracy'])\n",
        "\n",
        "# Define early stopping callback\n",
        "early_stopping = EarlyStopping(monitor='val_accuracy', min_delta=1e-4, patience=5)\n",
        "\n",
        "# Train the model\n",
        "history = cnn_model.fit(\n",
        "    X_train, y_train,\n",
        "    batch_size=1024,\n",
        "    epochs=10,\n",
        "    validation_split=0.1,\n",
        "    callbacks=[early_stopping],\n",
        "    verbose=1,\n",
        ")"
      ]
    },
    {
      "cell_type": "code",
      "execution_count": 11,
      "metadata": {
        "id": "IJCZyq_uKlBY",
        "colab": {
          "base_uri": "https://localhost:8080/"
        },
        "outputId": "af4e9a0e-48f3-4379-ffb6-606fcd7e0f82"
      },
      "outputs": [
        {
          "output_type": "stream",
          "name": "stdout",
          "text": [
            "250/250 [==============================] - 11s 45ms/step\n",
            "CNN Model Accuracy: 86.01%\n",
            "CNN Model F1 Score: 86.58%\n"
          ]
        }
      ],
      "source": [
        "# Make predictions on the test data\n",
        "y_pred_cnn = cnn_model.predict(X_test)\n",
        "y_pred_cnn = np.round(y_pred_cnn)  # Round to get 0 or 1 because we're dealing with binary classification\n",
        "\n",
        "# Calculate accuracy\n",
        "accuracy_cnn = accuracy_score(y_test, y_pred_cnn) * 100\n",
        "print(f\"CNN Model Accuracy: {accuracy_cnn:.2f}%\")\n",
        "\n",
        "# Calculate F1 score\n",
        "f1_cnn = f1_score(y_test, y_pred_cnn, average='binary') * 100\n",
        "print(f\"CNN Model F1 Score: {f1_cnn:.2f}%\")"
      ]
    },
    {
      "cell_type": "markdown",
      "metadata": {
        "id": "RwLgYnxnL2f9"
      },
      "source": [
        "## **Conclusion**"
      ]
    },
    {
      "cell_type": "markdown",
      "metadata": {
        "id": "mTkekcQEMN2-"
      },
      "source": [
        "## Confusion Matrix"
      ]
    },
    {
      "cell_type": "code",
      "execution_count": 15,
      "metadata": {
        "id": "w6LPtldkMP7g",
        "colab": {
          "base_uri": "https://localhost:8080/",
          "height": 1000
        },
        "outputId": "917566f1-e6d8-4aa2-b7ba-ad3737ee50b1"
      },
      "outputs": [
        {
          "output_type": "stream",
          "name": "stdout",
          "text": [
            "Confusion Matrix for RNN Model:\n",
            " [[3116  850]\n",
            " [ 366 3668]]\n",
            "Confusion Matrix for CNN Model:\n",
            " [[3270  696]\n",
            " [ 423 3611]]\n"
          ]
        },
        {
          "output_type": "display_data",
          "data": {
            "text/plain": [
              "<Figure size 500x500 with 2 Axes>"
            ],
            "image/png": "[encoded data removed]"
          },
          "metadata": {}
        },
        {
          "output_type": "display_data",
          "data": {
            "text/plain": [
              "<Figure size 500x500 with 2 Axes>"
            ],
            "image/png": "[encoded data removed]"
          },
          "metadata": {}
        }
      ],
      "source": [
        "# Confusion matrix for RNN model\n",
        "cm_rnn = confusion_matrix(y_test, y_pred_rnn)\n",
        "plt.figure(figsize=(5, 5))\n",
        "sns.heatmap(cm_rnn, annot=True, fmt=\"d\", cmap='Blues')\n",
        "plt.title('Confusion matrix for RNN Model')\n",
        "plt.ylabel('Actual label')\n",
        "plt.xlabel('Predicted label')\n",
        "print(\"Confusion Matrix for RNN Model:\\n\", cm_rnn)\n",
        "\n",
        "# Confusion matrix for CNN model\n",
        "cm_cnn = confusion_matrix(y_test, y_pred_cnn)\n",
        "plt.figure(figsize=(5, 5))\n",
        "sns.heatmap(cm_cnn, annot=True, fmt=\"d\", cmap='Blues')\n",
        "plt.title('Confusion matrix for CNN Model')\n",
        "plt.ylabel('Actual label')\n",
        "plt.xlabel('Predicted label')\n",
        "print(\"Confusion Matrix for CNN Model:\\n\", cm_cnn)"
      ]
    },
    {
      "cell_type": "markdown",
      "metadata": {
        "id": "q0gR0j06MLu-"
      },
      "source": [
        "## Classification Report"
      ]
    },
    {
      "cell_type": "code",
      "execution_count": 13,
      "metadata": {
        "id": "O_82pxhLL4SI",
        "colab": {
          "base_uri": "https://localhost:8080/"
        },
        "outputId": "ce1b0ac4-d8e6-4198-d250-d9df6acac509"
      },
      "outputs": [
        {
          "output_type": "stream",
          "name": "stdout",
          "text": [
            "Classification Report for RNN Model:\n",
            "               precision    recall  f1-score   support\n",
            "\n",
            "    Negative       0.89      0.79      0.84      3966\n",
            "    Positive       0.81      0.91      0.86      4034\n",
            "\n",
            "    accuracy                           0.85      8000\n",
            "   macro avg       0.85      0.85      0.85      8000\n",
            "weighted avg       0.85      0.85      0.85      8000\n",
            "\n",
            "Classification Report for CNN Model:\n",
            "               precision    recall  f1-score   support\n",
            "\n",
            "    Negative       0.89      0.82      0.85      3966\n",
            "    Positive       0.84      0.90      0.87      4034\n",
            "\n",
            "    accuracy                           0.86      8000\n",
            "   macro avg       0.86      0.86      0.86      8000\n",
            "weighted avg       0.86      0.86      0.86      8000\n",
            "\n",
            "Classification Report for RNN Model:\n",
            "               precision    recall  f1-score   support\n",
            "\n",
            "    Negative       0.89      0.79      0.84      3966\n",
            "    Positive       0.81      0.91      0.86      4034\n",
            "\n",
            "    accuracy                           0.85      8000\n",
            "   macro avg       0.85      0.85      0.85      8000\n",
            "weighted avg       0.85      0.85      0.85      8000\n",
            "\n",
            "Classification Report for CNN Model:\n",
            "               precision    recall  f1-score   support\n",
            "\n",
            "    Negative       0.89      0.82      0.85      3966\n",
            "    Positive       0.84      0.90      0.87      4034\n",
            "\n",
            "    accuracy                           0.86      8000\n",
            "   macro avg       0.86      0.86      0.86      8000\n",
            "weighted avg       0.86      0.86      0.86      8000\n",
            "\n"
          ]
        }
      ],
      "source": [
        "# Classification report for RNN model\n",
        "report_rnn = classification_report(y_test, y_pred_rnn, target_names=['Negative', 'Positive'])\n",
        "print(\"Classification Report for RNN Model:\\n\", report_rnn)\n",
        "\n",
        "# Classification report for CNN model\n",
        "report_cnn = classification_report(y_test, y_pred_cnn, target_names=['Negative', 'Positive'])\n",
        "print(\"Classification Report for CNN Model:\\n\", report_cnn)\n"
      ]
    }
  ],
  "metadata": {
    "accelerator": "TPU",
    "colab": {
      "provenance": []
    },
    "kernelspec": {
      "display_name": "Python 3",
      "name": "python3"
    },
    "language_info": {
      "name": "python"
    }
  },
  "nbformat": 4,
  "nbformat_minor": 0
}